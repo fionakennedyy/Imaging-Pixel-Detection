{
 "cells": [
  {
   "attachments": {},
   "cell_type": "markdown",
   "metadata": {},
   "source": [
    "Module 2: Stepping through an image"
   ]
  },
  {
   "cell_type": "code",
   "execution_count": null,
   "metadata": {},
   "outputs": [],
   "source": [
    "import cv2\n",
    "import numpy as np\n",
    "import matplotlib.pyplot as plt\n",
    "import copy\n",
    "\n",
    "#import image\n",
    "img = cv2.imread('Graphics/catfriends.jpg')\n",
    "\n",
    "#OpenCV by defualt uses BGR instead of RGB\n",
    "img = cv2.cvtColor(img, cv2.COLOR_BGR2RGB)\n",
    "\n",
    "#Use matplotlib while using a python notebook. Draw the image.\n",
    "plt.imshow(img)"
   ]
  },
  {
   "cell_type": "code",
   "execution_count": null,
   "metadata": {},
   "outputs": [],
   "source": [
    "#stepping through the image.\n",
    "\n",
    "#save height and width.\n",
    "h = img.shape[0]\n",
    "w = img.shape[1]\n",
    "d = img.shape[2]\n",
    "\n",
    "#count variable so we can keep track how many values we have\n",
    "count = 0\n",
    "\n",
    "#step through each pixel:\n",
    "\n",
    "#for each row in our grid, y = row\n",
    "for y in range(0,h):\n",
    "    #search each pixel in the row. x = pixel\n",
    "    for x in range(0,w):\n",
    "       count+=1\n",
    "\n",
    "#print the total number of pixels: 200x200 = 40000\n",
    "print(count)\n",
    "\n",
    "#reintialize the counting variable\n",
    "count = 0\n",
    "\n",
    "#step through each RBG value:\n",
    "\n",
    "#for each row in our grid, y = row\n",
    "for y in range(0,h):\n",
    "    #search each pixel in the row: x = pixel\n",
    "    for x in range(0,w):\n",
    "        #search each RGB value\n",
    "        for z in range(0,d):\n",
    "             count+=1\n",
    "\n",
    "#print the total number of RGB values: 200x200x3 = 120000   \n",
    "print(count)"
   ]
  },
  {
   "cell_type": "code",
   "execution_count": null,
   "metadata": {},
   "outputs": [],
   "source": [
    "#search for black and white pixels in image\n",
    "#loop through the pixel array testing if the pixel is white\n",
    "\n",
    "#save the height and width:\n",
    "h = img.shape[0]\n",
    "w = img.shape[1]\n",
    "\n",
    "#save the the RGB vales for white & black\n",
    "white = np.array([255,255,255])\n",
    "black = np.array([0,0,0])\n",
    "\n",
    "#count variable so we can keep track how many values we have\n",
    "count = 0\n",
    "\n",
    "#for each row in our grid, y = row\n",
    "for y in range(0,h):\n",
    "    #search each pixel in the row: x = pixel\n",
    "    for x in range(0,w):\n",
    "        #if the RGB values equal white:\n",
    "        if np.array_equal(img[y,x],white):\n",
    "            #print the 2D array location\n",
    "            print(\"Pixel [\",y,\"]\",\"[\",x,\"]\", \"is the color white.\")\n",
    "            #increase the counting variable\n",
    "            count+=1\n",
    "\n",
    "#print the total number of white pixels\n",
    "print(\"There are\",count,\"white pixels.\")"
   ]
  }
 ],
 "metadata": {
  "kernelspec": {
   "display_name": "Python 3",
   "language": "python",
   "name": "python3"
  },
  "language_info": {
   "name": "python",
   "version": "3.10.10"
  },
  "orig_nbformat": 4,
  "vscode": {
   "interpreter": {
    "hash": "49a5bffa4398310d5646eab42761ed0b39aa580e1a64fc16ddb6a8c66838dbd5"
   }
  }
 },
 "nbformat": 4,
 "nbformat_minor": 2
}
